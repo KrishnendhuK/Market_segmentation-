{
 "cells": [
  {
   "cell_type": "code",
   "execution_count": 1,
   "id": "9beb267a",
   "metadata": {},
   "outputs": [
    {
     "name": "stdout",
     "output_type": "stream",
     "text": [
      "Requirement already satisfied: streamlit in /Library/Frameworks/Python.framework/Versions/3.11/lib/python3.11/site-packages (1.22.0)\n",
      "Requirement already satisfied: altair<5,>=3.2.0 in /Library/Frameworks/Python.framework/Versions/3.11/lib/python3.11/site-packages (from streamlit) (4.2.2)\n",
      "Requirement already satisfied: blinker>=1.0.0 in /Library/Frameworks/Python.framework/Versions/3.11/lib/python3.11/site-packages (from streamlit) (1.6.2)\n",
      "Requirement already satisfied: cachetools>=4.0 in /Library/Frameworks/Python.framework/Versions/3.11/lib/python3.11/site-packages (from streamlit) (5.3.0)\n",
      "Requirement already satisfied: click>=7.0 in /Library/Frameworks/Python.framework/Versions/3.11/lib/python3.11/site-packages (from streamlit) (8.1.3)\n",
      "Requirement already satisfied: importlib-metadata>=1.4 in /Library/Frameworks/Python.framework/Versions/3.11/lib/python3.11/site-packages (from streamlit) (6.6.0)\n",
      "Requirement already satisfied: numpy in /Library/Frameworks/Python.framework/Versions/3.11/lib/python3.11/site-packages (from streamlit) (1.24.3)\n",
      "Requirement already satisfied: packaging>=14.1 in /Users/krishnendhuk/Library/Python/3.11/lib/python/site-packages (from streamlit) (23.1)\n",
      "Requirement already satisfied: pandas<3,>=0.25 in /Library/Frameworks/Python.framework/Versions/3.11/lib/python3.11/site-packages (from streamlit) (2.0.1)\n",
      "Requirement already satisfied: pillow>=6.2.0 in /Library/Frameworks/Python.framework/Versions/3.11/lib/python3.11/site-packages (from streamlit) (9.5.0)\n",
      "Requirement already satisfied: protobuf<4,>=3.12 in /Library/Frameworks/Python.framework/Versions/3.11/lib/python3.11/site-packages (from streamlit) (3.20.3)\n",
      "Requirement already satisfied: pyarrow>=4.0 in /Library/Frameworks/Python.framework/Versions/3.11/lib/python3.11/site-packages (from streamlit) (12.0.0)\n",
      "Requirement already satisfied: pympler>=0.9 in /Library/Frameworks/Python.framework/Versions/3.11/lib/python3.11/site-packages (from streamlit) (1.0.1)\n",
      "Requirement already satisfied: python-dateutil in /Users/krishnendhuk/Library/Python/3.11/lib/python/site-packages (from streamlit) (2.8.2)\n",
      "Requirement already satisfied: requests>=2.4 in /Library/Frameworks/Python.framework/Versions/3.11/lib/python3.11/site-packages (from streamlit) (2.30.0)\n",
      "Requirement already satisfied: rich>=10.11.0 in /Library/Frameworks/Python.framework/Versions/3.11/lib/python3.11/site-packages (from streamlit) (13.3.5)\n",
      "Requirement already satisfied: tenacity<9,>=8.0.0 in /Library/Frameworks/Python.framework/Versions/3.11/lib/python3.11/site-packages (from streamlit) (8.2.2)\n",
      "Requirement already satisfied: toml in /Library/Frameworks/Python.framework/Versions/3.11/lib/python3.11/site-packages (from streamlit) (0.10.2)\n",
      "Requirement already satisfied: typing-extensions>=3.10.0.0 in /Library/Frameworks/Python.framework/Versions/3.11/lib/python3.11/site-packages (from streamlit) (4.5.0)\n",
      "Requirement already satisfied: tzlocal>=1.1 in /Library/Frameworks/Python.framework/Versions/3.11/lib/python3.11/site-packages (from streamlit) (5.0)\n",
      "Requirement already satisfied: validators>=0.2 in /Library/Frameworks/Python.framework/Versions/3.11/lib/python3.11/site-packages (from streamlit) (0.20.0)\n",
      "Requirement already satisfied: gitpython!=3.1.19 in /Library/Frameworks/Python.framework/Versions/3.11/lib/python3.11/site-packages (from streamlit) (3.1.31)\n",
      "Requirement already satisfied: pydeck>=0.1.dev5 in /Library/Frameworks/Python.framework/Versions/3.11/lib/python3.11/site-packages (from streamlit) (0.8.1b0)\n",
      "Requirement already satisfied: tornado>=6.0.3 in /Users/krishnendhuk/Library/Python/3.11/lib/python/site-packages (from streamlit) (6.3.1)\n",
      "Requirement already satisfied: entrypoints in /Library/Frameworks/Python.framework/Versions/3.11/lib/python3.11/site-packages (from altair<5,>=3.2.0->streamlit) (0.4)\n",
      "Requirement already satisfied: jinja2 in /Users/krishnendhuk/Library/Python/3.11/lib/python/site-packages (from altair<5,>=3.2.0->streamlit) (3.1.2)\n",
      "Requirement already satisfied: jsonschema>=3.0 in /Users/krishnendhuk/Library/Python/3.11/lib/python/site-packages (from altair<5,>=3.2.0->streamlit) (4.17.3)\n",
      "Requirement already satisfied: toolz in /Library/Frameworks/Python.framework/Versions/3.11/lib/python3.11/site-packages (from altair<5,>=3.2.0->streamlit) (0.12.0)\n",
      "Requirement already satisfied: gitdb<5,>=4.0.1 in /Library/Frameworks/Python.framework/Versions/3.11/lib/python3.11/site-packages (from gitpython!=3.1.19->streamlit) (4.0.10)\n",
      "Requirement already satisfied: zipp>=0.5 in /Library/Frameworks/Python.framework/Versions/3.11/lib/python3.11/site-packages (from importlib-metadata>=1.4->streamlit) (3.15.0)\n",
      "Requirement already satisfied: pytz>=2020.1 in /Library/Frameworks/Python.framework/Versions/3.11/lib/python3.11/site-packages (from pandas<3,>=0.25->streamlit) (2023.3)\n",
      "Requirement already satisfied: tzdata>=2022.1 in /Library/Frameworks/Python.framework/Versions/3.11/lib/python3.11/site-packages (from pandas<3,>=0.25->streamlit) (2023.3)\n",
      "Requirement already satisfied: six>=1.5 in /Users/krishnendhuk/Library/Python/3.11/lib/python/site-packages (from python-dateutil->streamlit) (1.16.0)\n",
      "Requirement already satisfied: charset-normalizer<4,>=2 in /Library/Frameworks/Python.framework/Versions/3.11/lib/python3.11/site-packages (from requests>=2.4->streamlit) (3.1.0)\n",
      "Requirement already satisfied: idna<4,>=2.5 in /Users/krishnendhuk/Library/Python/3.11/lib/python/site-packages (from requests>=2.4->streamlit) (3.4)\n",
      "Requirement already satisfied: urllib3<3,>=1.21.1 in /Library/Frameworks/Python.framework/Versions/3.11/lib/python3.11/site-packages (from requests>=2.4->streamlit) (2.0.2)\n",
      "Requirement already satisfied: certifi>=2017.4.17 in /Library/Frameworks/Python.framework/Versions/3.11/lib/python3.11/site-packages (from requests>=2.4->streamlit) (2023.5.7)\n",
      "Requirement already satisfied: markdown-it-py<3.0.0,>=2.2.0 in /Library/Frameworks/Python.framework/Versions/3.11/lib/python3.11/site-packages (from rich>=10.11.0->streamlit) (2.2.0)\n",
      "Requirement already satisfied: pygments<3.0.0,>=2.13.0 in /Users/krishnendhuk/Library/Python/3.11/lib/python/site-packages (from rich>=10.11.0->streamlit) (2.15.1)\n",
      "Requirement already satisfied: decorator>=3.4.0 in /Users/krishnendhuk/Library/Python/3.11/lib/python/site-packages (from validators>=0.2->streamlit) (5.1.1)\n",
      "Requirement already satisfied: smmap<6,>=3.0.1 in /Library/Frameworks/Python.framework/Versions/3.11/lib/python3.11/site-packages (from gitdb<5,>=4.0.1->gitpython!=3.1.19->streamlit) (5.0.0)\n",
      "Requirement already satisfied: MarkupSafe>=2.0 in /Users/krishnendhuk/Library/Python/3.11/lib/python/site-packages (from jinja2->altair<5,>=3.2.0->streamlit) (2.1.2)\n",
      "Requirement already satisfied: attrs>=17.4.0 in /Users/krishnendhuk/Library/Python/3.11/lib/python/site-packages (from jsonschema>=3.0->altair<5,>=3.2.0->streamlit) (23.1.0)\n",
      "Requirement already satisfied: pyrsistent!=0.17.0,!=0.17.1,!=0.17.2,>=0.14.0 in /Users/krishnendhuk/Library/Python/3.11/lib/python/site-packages (from jsonschema>=3.0->altair<5,>=3.2.0->streamlit) (0.19.3)\n",
      "Requirement already satisfied: mdurl~=0.1 in /Library/Frameworks/Python.framework/Versions/3.11/lib/python3.11/site-packages (from markdown-it-py<3.0.0,>=2.2.0->rich>=10.11.0->streamlit) (0.1.2)\n",
      "Note: you may need to restart the kernel to use updated packages.\n"
     ]
    }
   ],
   "source": [
    "pip install streamlit\n"
   ]
  },
  {
   "cell_type": "code",
   "execution_count": 2,
   "id": "4da1f5b7",
   "metadata": {},
   "outputs": [
    {
     "name": "stdout",
     "output_type": "stream",
     "text": [
      "Requirement already satisfied: sklearn in /Users/krishnendhuk/opt/anaconda3/lib/python3.9/site-packages (0.0.post5)\n"
     ]
    }
   ],
   "source": [
    "! pip install sklearn"
   ]
  },
  {
   "cell_type": "code",
   "execution_count": null,
   "id": "3c0f60f2",
   "metadata": {},
   "outputs": [],
   "source": []
  },
  {
   "cell_type": "code",
   "execution_count": 3,
   "id": "803dcc1a",
   "metadata": {},
   "outputs": [],
   "source": [
    "import sklearn \n",
    "import streamlit as st\n",
    "import pandas as pd\n",
    "import plotly.figure_factory as ff\n",
    "import matplotlib.pyplot as plt\n",
    "import seaborn as sns\n",
    "import pickle\n",
    "from sklearn import preprocessing\n",
    "\n",
    "\n"
   ]
  },
  {
   "cell_type": "code",
   "execution_count": 4,
   "id": "dcba7b9e",
   "metadata": {},
   "outputs": [
    {
     "name": "stderr",
     "output_type": "stream",
     "text": [
      "/Library/Frameworks/Python.framework/Versions/3.11/lib/python3.11/site-packages/sklearn/base.py:318: UserWarning: Trying to unpickle estimator DecisionTreeClassifier from version 1.0.2 when using version 1.2.2. This might lead to breaking code or invalid results. Use at your own risk. For more info please refer to:\n",
      "https://scikit-learn.org/stable/model_persistence.html#security-maintainability-limitations\n",
      "  warnings.warn(\n"
     ]
    }
   ],
   "source": [
    "filename = 'final_model.sav'\n",
    "loaded_model = pickle.load(open(filename, 'rb'))\n",
    "df = pd.read_csv(\"Clustered_Customer_Data.csv\")\n",
    "st.set_option('deprecation.showPyplotGlobalUse', False)\n"
   ]
  },
  {
   "cell_type": "code",
   "execution_count": 5,
   "id": "393fd58d",
   "metadata": {},
   "outputs": [
    {
     "name": "stderr",
     "output_type": "stream",
     "text": [
      "2023-05-15 19:38:18.261 \n",
      "  \u001b[33m\u001b[1mWarning:\u001b[0m to view this Streamlit app on a browser, run it with the following\n",
      "  command:\n",
      "\n",
      "    streamlit run /Users/krishnendhuk/Library/Python/3.11/lib/python/site-packages/ipykernel_launcher.py [ARGUMENTS]\n"
     ]
    },
    {
     "data": {
      "text/plain": [
       "DeltaGenerator()"
      ]
     },
     "execution_count": 5,
     "metadata": {},
     "output_type": "execute_result"
    }
   ],
   "source": [
    "st.markdown('<style>body{background-color: Blue;}</style>',unsafe_allow_html=True)\n",
    "st.title(\"Prediction\")\n"
   ]
  },
  {
   "cell_type": "code",
   "execution_count": 6,
   "id": "3066b9eb",
   "metadata": {},
   "outputs": [],
   "source": [
    "with st.form(\"my_form\"):\n",
    "    balance=st.number_input(label='Balance',step=0.001,format=\"%.6f\")\n",
    "    balance_frequency=st.number_input(label='Balance Frequency',step=0.001,format=\"%.6f\")\n",
    "    purchases=st.number_input(label='Purchases',step=0.01,format=\"%.2f\")\n",
    "    oneoff_purchases=st.number_input(label='OneOff_Purchases',step=0.01,format=\"%.2f\")\n",
    "    installments_purchases=st.number_input(label='Installments Purchases',step=0.01,format=\"%.2f\")\n",
    "    cash_advance=st.number_input(label='Cash Advance',step=0.01,format=\"%.6f\")\n",
    "    purchases_frequency=st.number_input(label='Purchases Frequency',step=0.01,format=\"%.6f\")\n",
    "    oneoff_purchases_frequency=st.number_input(label='OneOff Purchases Frequency',step=0.1,format=\"%.6f\")\n",
    "    purchases_installment_frequency=st.number_input(label='Purchases Installments Freqency',step=0.1,format=\"%.6f\")\n",
    "    cash_advance_frequency=st.number_input(label='Cash Advance Frequency',step=0.1,format=\"%.6f\")\n",
    "    cash_advance_trx=st.number_input(label='Cash Advance Trx',step=1)\n",
    "    purchases_trx=st.number_input(label='Purchases TRX',step=1)\n",
    "    credit_limit=st.number_input(label='Credit Limit',step=0.1,format=\"%.1f\")\n",
    "    payments=st.number_input(label='Payments',step=0.01,format=\"%.6f\")\n",
    "    minimum_payments=st.number_input(label='Minimum Payments',step=0.01,format=\"%.6f\")\n",
    "    prc_full_payment=st.number_input(label='PRC Full Payment',step=0.01,format=\"%.6f\")\n",
    "    tenure=st.number_input(label='Tenure',step=1)\n",
    "\n",
    "    data=[[balance,balance_frequency,purchases,oneoff_purchases,installments_purchases,cash_advance,purchases_frequency,oneoff_purchases_frequency,purchases_installment_frequency,cash_advance_frequency,cash_advance_trx,purchases_trx,credit_limit,payments,minimum_payments,prc_full_payment,tenure]]\n",
    "\n",
    "    submitted = st.form_submit_button(\"Submit\")"
   ]
  },
  {
   "cell_type": "code",
   "execution_count": 7,
   "id": "adb4e764",
   "metadata": {},
   "outputs": [],
   "source": [
    "if submitted:\n",
    "    clust=loaded_model.predict(data)[0]\n",
    "    print('Data Belongs to Cluster',clust)\n",
    "\n",
    "    cluster_df1=df[df['Cluster']==clust]\n",
    "    plt.rcParams[\"figure.figsize\"] = (20,3)\n",
    "    for c in cluster_df1.drop(['Cluster'],axis=1):\n",
    "        fig, ax = plt.subplots()\n",
    "        grid= sns.FacetGrid(cluster_df1, col='Cluster')\n",
    "        grid= grid.map(plt.hist, c)\n",
    "        plt.show()\n",
    "        st.pyplot(figsize=(5, 5))\n"
   ]
  },
  {
   "cell_type": "code",
   "execution_count": null,
   "id": "76e24ff8",
   "metadata": {},
   "outputs": [],
   "source": []
  },
  {
   "cell_type": "code",
   "execution_count": null,
   "id": "10f4b99c",
   "metadata": {},
   "outputs": [],
   "source": []
  },
  {
   "cell_type": "code",
   "execution_count": null,
   "id": "4c42774f",
   "metadata": {},
   "outputs": [],
   "source": []
  },
  {
   "cell_type": "code",
   "execution_count": null,
   "id": "93faf5d8",
   "metadata": {},
   "outputs": [],
   "source": []
  },
  {
   "cell_type": "code",
   "execution_count": null,
   "id": "9df87a6c",
   "metadata": {},
   "outputs": [],
   "source": []
  }
 ],
 "metadata": {
  "kernelspec": {
   "display_name": "Python 3 (ipykernel)",
   "language": "python",
   "name": "python3"
  },
  "language_info": {
   "codemirror_mode": {
    "name": "ipython",
    "version": 3
   },
   "file_extension": ".py",
   "mimetype": "text/x-python",
   "name": "python",
   "nbconvert_exporter": "python",
   "pygments_lexer": "ipython3",
   "version": "3.11.1"
  }
 },
 "nbformat": 4,
 "nbformat_minor": 5
}
